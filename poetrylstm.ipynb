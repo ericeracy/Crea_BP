{
 "cells": [
  {
   "cell_type": "markdown",
   "metadata": {},
   "source": [
    "# Japanese style poem generator\n",
    "\n",
    "## 1. Introduction\n",
    "This is an introduction and log book to the poem generator for the project “Bad Poet Society”. This generative system is based on a LSTM neural network with the data set construced by a mixture of Japanese haiku-like and waka-like English poems. \n",
    "\n",
    "I am a little bit familiar with Japanese, and also fond of Japanese literatures and poems (haiku, tanka, choka, et al.), therefore I decided to make a generative system regarding Japanese poems (though there is a struggling story about how I choose my inspiring set.. will reveal it later). \n",
    "\n",
    "At the first time I saw this project, the generative adversarial networks (GAN) instantly appeared in my thought. Due to the difficulty of exploiting a GAN and I was not familiar with it, I decided to make use of LSTM network for this generative system. I started checking the information regarding how to deploy a text generating LSTM, and the github [blog](https://gist.github.com/maxim5/c35ef2238ae708ccb0e55624e9e0252b) by Maxim, the AI haiku [blog](https://www.brianweet.com/2019/06/16/write-ai-gpt-2-haiku.html) by brianweet, and the *haikurnn* project ([blog](https://towardsdatascience.com/generating-haiku-with-deep-learning-dbf5d18b4246), [code](https://github.com/docmarionum1/haikurnn/)) by Jeremy Neiman give me a lot of inspiration. \n",
    "\n",
    "### A simple analysis regarding two haiku projects by others with mine\n",
    "Although brianweet's and Jeremy Neiman's ideas are very similar with mine, the expolitation of Brianweet's made use of GPT-2 model by OpenAI which is too huge to deploy for a small scale project such like mine, while Jeremy Neiman's project did not utilize word vectors (only word index and RNN) for training which is too much simple as a generator. Mine makes use of gensim word2vec for word vector training and LSTM network for generator training, which is an appropriate size for deploying this creativity system. \n",
    "\n",
    "## 2. Environment requirements\n",
    "This scripts is in python3, with packages: \n",
    "* Keras\n",
    "* Tensorflow\n",
    "* pandas\n",
    "* gensim\n",
    "* numpy\n",
    "* random\n",
    "\n",
    "More information can be found in the README.md file in the zip archive."
   ]
  },
  {
   "cell_type": "code",
   "execution_count": 135,
   "metadata": {},
   "outputs": [
    {
     "data": {
      "text/plain": [
       "'/usr/bin/python3'"
      ]
     },
     "execution_count": 135,
     "metadata": {},
     "output_type": "execute_result"
    }
   ],
   "source": [
    "import keras\n",
    "import pandas as pd\n",
    "import gensim\n",
    "import numpy as np\n",
    "import string\n",
    "\n",
    "seed_value = 101\n",
    "np.random.seed(seed_value)\n",
    "\n",
    "import random\n",
    "random.seed(seed_value)\n",
    "\n",
    "import tensorflow as tf\n",
    "tf.random.set_seed(seed_value)\n",
    "\n",
    "from keras.models import Sequential\n",
    "from keras.layers import Bidirectional\n",
    "from keras.layers import Dense, Activation\n",
    "from keras.layers.embeddings import Embedding\n",
    "from keras.layers.recurrent import LSTM\n",
    "from keras.callbacks import LambdaCallback\n",
    "from keras.models import load_model\n",
    "\n",
    "# import nltk\n",
    "# from nltk import word_tokenize, pos_tag\n",
    "\n",
    "#gpus = tf.config.experimental.list_physical_devices('GPU') # for cudnn\n",
    "#tf.config.experimental.set_memory_growth(gpus[0], True)\n",
    "\n",
    "import sys\n",
    "sys.executable"
   ]
  },
  {
   "cell_type": "code",
   "execution_count": 78,
   "metadata": {},
   "outputs": [],
   "source": [
    "# hyperparameter config\n",
    "max_sentence_len=10\n",
    "epoch_num = 5"
   ]
  },
  {
   "cell_type": "markdown",
   "metadata": {},
   "source": [
    "## 3. About Inspiring set and the starting work\n",
    "At the beginning I intended to code a completely traditional Japanese style English haiku generator, but due to the complexity of haiku composition, I was going to extend the spread of my inspiring set as the combination of haiku-like and waka-like Japanese poems. This set contains a ready-made haiku-like dataset provided by Jeremy Neiman's *haikurnn* project ([blog](https://towardsdatascience.com/generating-haiku-with-deep-learning-dbf5d18b4246), [code](https://github.com/docmarionum1/haikurnn/)).\n",
    "\n",
    "### Compare traditional haiku and my haiku-like inspiring set\n",
    "As described above, the inspiring set is essentially not a formal English haiku data set. \n",
    "\n",
    "The haiku poem has a constraint that it needs to have a 5-7-5 syllables formation. Originally this constraint is for Japanese for whom this seems easier to achieve compared with western language in which one atomic word may contain more than one sysllables while a Japanese hiragana has only one syllable. And there are more requirement for a haiku such like it needs the word describing the feature of a season. \n",
    "\n",
    "For variety and simplicity, I omit these harsh limits while preparing the inspiring set, and only reserve the restriction that the poem should have three sentences. My inspiring set is the dataset haikus.csv (140k haikus) from the *haikurnn* project in Github which I have mentioned before. Note that this data set in fact is also not a regular English haiku set. The author labeled the syllabels for every sentence of each poem where we could see that not every poem has a 5-7-5 formation but everyone has three sentences. Therefore I call this inspiring set as Haiku-like/Waka-like set (or to say in an explicit way, it is a Japanese poem inspiring set). \n",
    "\n",
    "More information about this data set can be found in their [blog](https://towardsdatascience.com/generating-haiku-with-deep-learning-dbf5d18b4246).\n",
    "\n",
    "The example of this data set are shown as follows: "
   ]
  },
  {
   "cell_type": "code",
   "execution_count": 4,
   "metadata": {},
   "outputs": [
    {
     "data": {
      "text/html": [
       "<div>\n",
       "<style scoped>\n",
       "    .dataframe tbody tr th:only-of-type {\n",
       "        vertical-align: middle;\n",
       "    }\n",
       "\n",
       "    .dataframe tbody tr th {\n",
       "        vertical-align: top;\n",
       "    }\n",
       "\n",
       "    .dataframe thead th {\n",
       "        text-align: right;\n",
       "    }\n",
       "</style>\n",
       "<table border=\"1\" class=\"dataframe\">\n",
       "  <thead>\n",
       "    <tr style=\"text-align: right;\">\n",
       "      <th></th>\n",
       "      <th>0</th>\n",
       "      <th>1</th>\n",
       "      <th>2</th>\n",
       "      <th>source</th>\n",
       "      <th>0_syllables</th>\n",
       "      <th>1_syllables</th>\n",
       "      <th>2_syllables</th>\n",
       "    </tr>\n",
       "  </thead>\n",
       "  <tbody>\n",
       "    <tr>\n",
       "      <th>0</th>\n",
       "      <td>Memorial Day --</td>\n",
       "      <td>a shadow for each</td>\n",
       "      <td>white cross</td>\n",
       "      <td>tempslibres</td>\n",
       "      <td>5</td>\n",
       "      <td>5</td>\n",
       "      <td>2</td>\n",
       "    </tr>\n",
       "    <tr>\n",
       "      <th>1</th>\n",
       "      <td>spring rain -</td>\n",
       "      <td>as the doctor speaks</td>\n",
       "      <td>i think of lilacs</td>\n",
       "      <td>tempslibres</td>\n",
       "      <td>2,3</td>\n",
       "      <td>5</td>\n",
       "      <td>5</td>\n",
       "    </tr>\n",
       "    <tr>\n",
       "      <th>2</th>\n",
       "      <td>spring moonset --</td>\n",
       "      <td>a rice ball for</td>\n",
       "      <td>breakfast</td>\n",
       "      <td>tempslibres</td>\n",
       "      <td>3,4</td>\n",
       "      <td>4</td>\n",
       "      <td>2</td>\n",
       "    </tr>\n",
       "    <tr>\n",
       "      <th>3</th>\n",
       "      <td>sunny afternoon</td>\n",
       "      <td>an old man lingers</td>\n",
       "      <td>near the mailbox</td>\n",
       "      <td>tempslibres</td>\n",
       "      <td>5</td>\n",
       "      <td>5</td>\n",
       "      <td>4</td>\n",
       "    </tr>\n",
       "    <tr>\n",
       "      <th>4</th>\n",
       "      <td>cinco de mayo</td>\n",
       "      <td>horses roll</td>\n",
       "      <td>in the shallows</td>\n",
       "      <td>tempslibres</td>\n",
       "      <td>5</td>\n",
       "      <td>3</td>\n",
       "      <td>4</td>\n",
       "    </tr>\n",
       "  </tbody>\n",
       "</table>\n",
       "</div>"
      ],
      "text/plain": [
       "                   0                     1                  2       source  \\\n",
       "0    Memorial Day --     a shadow for each        white cross  tempslibres   \n",
       "1      spring rain -  as the doctor speaks  i think of lilacs  tempslibres   \n",
       "2  spring moonset --       a rice ball for          breakfast  tempslibres   \n",
       "3    sunny afternoon    an old man lingers   near the mailbox  tempslibres   \n",
       "4      cinco de mayo           horses roll    in the shallows  tempslibres   \n",
       "\n",
       "  0_syllables 1_syllables 2_syllables  \n",
       "0           5           5           2  \n",
       "1         2,3           5           5  \n",
       "2         3,4           4           2  \n",
       "3           5           5           4  \n",
       "4           5           3           4  "
      ]
     },
     "execution_count": 4,
     "metadata": {},
     "output_type": "execute_result"
    }
   ],
   "source": [
    "# read the inspiring set \n",
    "# haiku-like dataset provided by the haikurnn \n",
    "# this 'scripts' dir will appear locally after you unzip the scripts.zip file\n",
    "data = pd.read_csv(\"./scripts/data/haikus.csv\")\n",
    "data.head()"
   ]
  },
  {
   "cell_type": "markdown",
   "metadata": {},
   "source": [
    "## 4. Approach\n",
    "\n",
    "### 4.1 Preparing the training set\n",
    "This generator uses a simple LSTM neural network. For traning this network it needs a training set containing x and y. Here the strategy of training is to\n",
    "\n",
    "* use the first sentence as *x* (source sentence) and the first word of the second sentence as *y* (target word)\n",
    "* use the second sentence as *x* (source sentence) and the first word of the third sentence as *y* (target word)\n",
    "\n",
    "Therefore I combine the first and second sentence of each poem together as the *train_x* list, and same procedure for the first words of second and third sentences as *train_y*, which makes each training sample is like this form: (form sentence, the first word of later sentence). Note that the order of sentences are remained which means the sentences are from the same poem in one traning sample. \n",
    "\n",
    "### 4.2 Pre-processing procedures\n",
    "The pre-processing for traning text contains of:\n",
    "\n",
    "* lowercase\n",
    "* tokenize\n",
    "\n",
    "Usually we could also do POS tagging, non-noun deleting, lemmatization, or other procedure. Here follow Maxim ([blog](https://gist.github.com/maxim5/c35ef2238ae708ccb0e55624e9e0252b)) I only apply these two because the original text is already very short, and I need the word remaining its semantical conjuction formation for generating. (Here omit the complex processing procedure used in machine translation or other natural language processing generating task.)"
   ]
  },
  {
   "cell_type": "code",
   "execution_count": 5,
   "metadata": {},
   "outputs": [
    {
     "name": "stdout",
     "output_type": "stream",
     "text": [
      "143137 143137 143137\n"
     ]
    }
   ],
   "source": [
    "sentences_x = data['0'].tolist()\n",
    "sentences_y = data['1'].tolist()\n",
    "sentences_y_p = data['2'].tolist()\n",
    "print(len(sentences_x),len(sentences_y),len(sentences_y_p))"
   ]
  },
  {
   "cell_type": "code",
   "execution_count": 11,
   "metadata": {},
   "outputs": [
    {
     "name": "stdout",
     "output_type": "stream",
     "text": [
      "[['memorial', 'day', 'a', 'shadow', 'for', 'each', 'white', 'cross'], ['spring', 'rain', 'as', 'the', 'doctor', 'speaks', 'i', 'think', 'of', 'lilacs'], ['spring', 'moonset', 'a', 'rice', 'ball', 'for', 'breakfast'], ['sunny', 'afternoon', 'an', 'old', 'man', 'lingers', 'near', 'the', 'mailbox'], ['cinco', 'de', 'mayo', 'horses', 'roll', 'in', 'the', 'shallows']]\n"
     ]
    }
   ],
   "source": [
    "# preparing sentences_tokens list for word2vec training\n",
    "# for word2vec training, I use all of the sentences of the poems\n",
    "# therefore it only needs to add all poems in one list \n",
    "# sentences' order in one poem is remained\n",
    "# sentences_x_tokens et al. are prepared for training the generator model\n",
    "\n",
    "sentences_x_tokens = [[word for word in str(sentence).lower().translate(str.maketrans('','', string.punctuation)).split()[:max_sentence_len]] for sentence in sentences_x]\n",
    "sentences_y_tokens = [[word for word in str(sentence).lower().translate(str.maketrans('','', string.punctuation)).split()[:max_sentence_len]] for sentence in sentences_y]\n",
    "sentences_y_p_tokens = [[word for word in str(sentence).lower().translate(str.maketrans('','', string.punctuation)).split()[:max_sentence_len]] for sentence in sentences_y_p]\n",
    "\n",
    "sentences_tokens = []\n",
    "for i in range(len(sentences_x_tokens)): # add blank to avoid missing tokenizing in next step\n",
    "  sentences_tokens.append(sentences_x_tokens[i] + sentences_y_tokens[i] + sentences_y_p_tokens[i])\n",
    "print(sentences_tokens[:5])"
   ]
  },
  {
   "cell_type": "code",
   "execution_count": 12,
   "metadata": {},
   "outputs": [],
   "source": [
    "# train the word2vec model, using default config\n",
    "# note that in gensim.model.Word2vec, the default method is CBOW\n",
    "# and negative sampling will be user, where negative = 5\n",
    "word_model = gensim.models.Word2Vec(sentences_tokens, size=50, min_count=1, window=5, iter=100)\n",
    "pretrained_weights = word_model.wv.vectors\n",
    "vocab_size, emdedding_size = pretrained_weights.shape"
   ]
  },
  {
   "cell_type": "code",
   "execution_count": 14,
   "metadata": {},
   "outputs": [],
   "source": [
    "# to save or to load the trained word2vec model\n",
    "# word_model.save('word2vec.model')\n",
    "# word_model = gensim.models.Word2Vec.load('scripts/word2vec.model')"
   ]
  },
  {
   "cell_type": "code",
   "execution_count": null,
   "metadata": {},
   "outputs": [],
   "source": [
    "# this is used to check the trained word vectors\n",
    "\"\"\"\n",
    "print('Checking similar words:')\n",
    "for word in ['model', 'network', 'train', 'learn']:\n",
    "  most_similar = ', '.join('%s (%.2f)' % (similar, dist) for similar, dist in word_model.wv.most_similar(word)[:8])\n",
    "  print('  %s -> %s' % (word, most_similar))\n",
    "\"\"\""
   ]
  },
  {
   "cell_type": "code",
   "execution_count": 145,
   "metadata": {},
   "outputs": [],
   "source": [
    "def word2idx(word):\n",
    "  return word_model.wv.vocab[word].index\n",
    "def idx2word(idx):\n",
    "  return word_model.wv.index2word[idx]"
   ]
  },
  {
   "cell_type": "code",
   "execution_count": 169,
   "metadata": {},
   "outputs": [
    {
     "data": {
      "text/plain": [
       "array([[ 2690,    51,     0, ...,     0,     0,     0],\n",
       "       [  308,   201,     0, ...,     0,     0,     0],\n",
       "       [  308, 16884,     0, ...,     0,     0,     0],\n",
       "       ...,\n",
       "       [   16,   441,   142, ...,     0,     0,     0],\n",
       "       [  412,  1047, 43922, ...,     0,     0,     0],\n",
       "       [  884,   376,    34, ...,     0,     0,     0]], dtype=int32)"
      ]
     },
     "execution_count": 169,
     "metadata": {},
     "output_type": "execute_result"
    }
   ],
   "source": [
    "sentences_x_train = sentences_x_tokens + sentences_y_tokens\n",
    "sentences_y_train = sentences_y_tokens + sentences_y_p_tokens\n",
    "train_x = np.zeros([len(sentences_x_train), max_sentence_len], dtype=np.int32)\n",
    "train_y = np.zeros([len(sentences_y_train)], dtype=np.int32)\n",
    "for i, sentence in enumerate(sentences_x_train):\n",
    "  for t, word in enumerate(sentence):\n",
    "    train_x[i, t] = word2idx(word)\n",
    "  if sentence!=[] and sentences_y_train[i]!=[]:\n",
    "    train_y[i] = word2idx(sentences_y_train[i][0])\n",
    "train_x"
   ]
  },
  {
   "cell_type": "code",
   "execution_count": 170,
   "metadata": {},
   "outputs": [
    {
     "data": {
      "text/plain": [
       "(286274, 10)"
      ]
     },
     "execution_count": 170,
     "metadata": {},
     "output_type": "execute_result"
    }
   ],
   "source": [
    "np.shape(train_x)"
   ]
  },
  {
   "cell_type": "code",
   "execution_count": 171,
   "metadata": {},
   "outputs": [
    {
     "data": {
      "text/plain": [
       "(286274,)"
      ]
     },
     "execution_count": 171,
     "metadata": {},
     "output_type": "execute_result"
    }
   ],
   "source": [
    "np.shape(train_y)"
   ]
  },
  {
   "cell_type": "code",
   "execution_count": 172,
   "metadata": {},
   "outputs": [],
   "source": [
    "# build the LSTM model\n",
    "model = Sequential()\n",
    "model.add(Embedding(input_dim=vocab_size, output_dim=emdedding_size, weights=[pretrained_weights]))\n",
    "model.add(LSTM(units=emdedding_size, name='x1'))\n",
    "model.add(Dense(units=vocab_size, name='y1'))\n",
    "model.add(Activation('softmax'))\n",
    "model.compile(optimizer='adam', loss='sparse_categorical_crossentropy')"
   ]
  },
  {
   "attachments": {
    "image.png": {
     "image/png": "[encoded data removed]"
    }
   },
   "cell_type": "markdown",
   "metadata": {},
   "source": [
    "### 4.3 LSTM neural networks\n",
    "During experiments, I have tried both one-way LSTM and BiLSTM, and several numbers of epochs. I find BiLSTM would more easily overfit (the reason could be the sentence is very short) and takes more time for training (due to the issues of school computer I could not use GPU of the machine). Therefore I deploy only one-way LSTM network for this system.\n",
    "![image.png](attachment:image.png \"An example of RNN\")\n",
    "<center>An example of RNN showing how RNN type networks encode words in chronological order (image from <a href=\"http://torch.ch/blog/2016/07/25/nce.html\">torch</a>).</center>\n",
    "\n",
    "### 4.4 Generating procedure\n",
    "After training we could use this LSTM model to generate the poem!\n",
    "The generating procedure makes use of tempreture sampling mechanism to tune the randomness of the generating results. The higher the temperature, the more diverse results it gives (see a [blog](https://keras.io/examples/generative/lstm_character_level_text_generation/) regarding deploying it from Keras, a nice [blog](https://medium.com/machine-learning-at-petiteprogrammer/sampling-strategies-for-recurrent-neural-networks-9aea02a6616f) by Daniël Heres, and a [QA](https://cs.stackexchange.com/questions/79241/what-is-temperature-in-lstm-and-neural-networks-generally) webpage interpreting it from stackexchange).\n",
    "\n",
    "During my experiments I indeed find if the value of tempreture is too low then the network will keep generating the same word with the input. Therefore I tune up this value as 1.0.\n",
    "\n",
    "I also write a noun-word-extracting script (see the next block) for the condition when one wants to start the poem by a noun word (it can be a verb, a adjective, or other limitations whatsoever as well). Though due to time limitation it is not well-equipped, it can be a part of future work. \n",
    "\n",
    "The generating part (function *generate_next(text, num_generated)*) itself is provided by the github [code](https://gist.github.com/maxim5/c35ef2238ae708ccb0e55624e9e0252b) which has been mentioned as the very beginning of this logbook. But there are a few modification of mine: \n",
    "* a) instead of generate 10 words for each sentence, I generate two words for the first sentence (in which the first word is random chosen by the funtion *random.choice* from the overall vocabulary of the word2vec model) (this can be also seen as the stopping criterion of this generating system). The second sentence is generated by input of the first sentence, similarly, the third sentence is generated by the second sentence as the input.\n",
    "* I write a function *poem_generator(random_start)* for generating a single haikulike poem which gives a better layout. \n",
    "\n",
    "More generated poems can be found on my website [blog](http://qaqawwv.nl/2020/11/02/ai-poet/ 'blog')."
   ]
  },
  {
   "cell_type": "code",
   "execution_count": 174,
   "metadata": {},
   "outputs": [],
   "source": [
    "# this temperature-tuned generating mechanism is a sample \n",
    "# from keras for generating rnn\n",
    "# see \"Character-level text generation with LSTM\"\n",
    "# link: https://keras.io/examples/generative/lstm_character_level_text_generation/\n",
    "\n",
    "def sample(preds, temperature=1.0):\n",
    "  if temperature <= 0:\n",
    "    return np.argmax(preds)\n",
    "  preds = np.asarray(preds).astype('float64')\n",
    "  preds = np.log(preds) / temperature\n",
    "  exp_preds = np.exp(preds)\n",
    "  preds = exp_preds / np.sum(exp_preds)\n",
    "  probas = np.random.multinomial(1, preds, 1)\n",
    "  return np.argmax(probas)\n",
    " \n",
    "def generate_next(text, num_generated=10):\n",
    "  word_idxs = [word2idx(word) for word in text.lower().split()]\n",
    "  for i in range(num_generated):\n",
    "    prediction = model.predict(x=np.array(word_idxs))\n",
    "    idx = sample(prediction[-1], temperature=1.0)\n",
    "    word_idxs.append(idx)\n",
    "  return ' '.join(idx2word(idx) for idx in word_idxs)\n",
    "\n",
    "vocab = word_model.wv.vocab.keys()\n",
    "random_start = random.choice(tuple(vocab))\n",
    "def poem_generator(start):\n",
    "  first_sen = generate_next(start, num_generated=2)\n",
    "  second_sen = generate_next(first_sen, num_generated=5)\n",
    "  third_sen = generate_next(second_sen, num_generated=3)\n",
    "  return [first_sen, \" \".join(second_sen.split()[-5:]), \" \".join(third_sen.split()[-3:])]\n",
    "\n",
    "def callback_ep(epoch, _):\n",
    "  random_start = random.choice(tuple(vocab))\n",
    "  haikulike_ep = poem_generator(random_start)\n",
    "  print('\\r')\n",
    "  print(haikulike_ep[0])\n",
    "  print(haikulike_ep[1])\n",
    "  print(haikulike_ep[2])"
   ]
  },
  {
   "cell_type": "code",
   "execution_count": 175,
   "metadata": {},
   "outputs": [
    {
     "name": "stdout",
     "output_type": "stream",
     "text": [
      "Epoch 1/5\n",
      "4472/4474 [============================>.] - ETA: 0s - loss: 6.8104\n",
      "cents slicked breathtaking\n",
      "clown settles watchful commute valued\n",
      "visit bummed falter\n",
      "4474/4474 [==============================] - 102s 23ms/step - loss: 6.8103\n",
      "Epoch 2/5\n",
      "4474/4474 [==============================] - ETA: 0s - loss: 6.1739\n",
      "trying favourite of\n",
      "dames lenses carriages rations scumbag\n",
      "spheres placards astaroth\n",
      "4474/4474 [==============================] - 103s 23ms/step - loss: 6.1739\n",
      "Epoch 3/5\n",
      "4473/4474 [============================>.] - ETA: 0s - loss: 5.9097\n",
      "trents placements intended\n",
      "pronounced demented chopped comfy gov\n",
      "explained cows sorry\n",
      "4474/4474 [==============================] - 103s 23ms/step - loss: 5.9097\n",
      "Epoch 4/5\n",
      "4474/4474 [==============================] - ETA: 0s - loss: 5.7409\n",
      "hosting bored each\n",
      "is tracking artist byu orientation\n",
      "weep essay asks\n",
      "4474/4474 [==============================] - 103s 23ms/step - loss: 5.7409\n",
      "Epoch 5/5\n",
      "4473/4474 [============================>.] - ETA: 0s - loss: 5.5975\n",
      "crimes honest among\n",
      "aca mittens shyster natives wellordering\n",
      "relied crypto of\n",
      "4474/4474 [==============================] - 103s 23ms/step - loss: 5.5976\n"
     ]
    },
    {
     "data": {
      "text/plain": [
       "<tensorflow.python.keras.callbacks.History at 0x7fb6f068b518>"
      ]
     },
     "execution_count": 175,
     "metadata": {},
     "output_type": "execute_result"
    }
   ],
   "source": [
    "model.fit(train_x, train_y,\n",
    "          batch_size=64,\n",
    "          epochs=epoch_num,\n",
    "          callbacks=[LambdaCallback(on_epoch_end=callback_ep)])"
   ]
  },
  {
   "cell_type": "code",
   "execution_count": 176,
   "metadata": {},
   "outputs": [
    {
     "name": "stdout",
     "output_type": "stream",
     "text": [
      "INFO:tensorflow:Assets written to: ./scripts/LSTM_TG.model/assets\n"
     ]
    }
   ],
   "source": [
    "model.save(\"./scripts/LSTM_TG.model\")\n",
    "#model = load_model(\"./scripts/LSTM_TG.model\")"
   ]
  },
  {
   "cell_type": "code",
   "execution_count": 196,
   "metadata": {},
   "outputs": [],
   "source": [
    "# this is used when you want to \n",
    "# assign a noun word as the \n",
    "# beginning of the poem for checking the generating system\n",
    "\"\"\"\n",
    "NN_words = set()\n",
    "def noun_words_extract(sentences):\n",
    "  for s in sentences:\n",
    "    if type(s)!=float:\n",
    "      s_tokens_C = word_tokenize(s)\n",
    "      s_pos_tag = pos_tag(s_tokens_C)\n",
    "      for i in s_pos_tag:\n",
    "        if 'NN' in i[-1]:\n",
    "          NN_words.add(i[0])\n",
    "noun_words_extract(sentences_x)\n",
    "noun_words_extract(sentences_y)\n",
    "noun_words_extract(sentences_y_p)\n",
    "\"\"\""
   ]
  },
  {
   "cell_type": "code",
   "execution_count": 177,
   "metadata": {},
   "outputs": [
    {
     "name": "stdout",
     "output_type": "stream",
     "text": [
      "Generating haiku-like poem...\n",
      "\n",
      "Lemar methinks walked\n",
      "Coworker fire flipped hollister pointing\n",
      "Rigidity soggy austrian\n"
     ]
    }
   ],
   "source": [
    "print(\"Generating haiku-like poem...\\n\")\n",
    "random_start = random.choice(tuple(vocab))\n",
    "haikulike = poem_generator(random_start)\n",
    "print(haikulike[0].capitalize())\n",
    "print(haikulike[1].capitalize())\n",
    "print(haikulike[2].capitalize())"
   ]
  },
  {
   "cell_type": "markdown",
   "metadata": {},
   "source": [
    "## 5. Evaluation\n",
    "\n",
    "### 5.1 contextualized embedding\n",
    "A typical feature of this generating system is that, it is not a rule-based system. There is no written-rules (such like a expilicit grammar: where to place what words) to choose from. This system utilizes Word2vec model and LSTM, which could tackle with long-distance text and keep this information for training. (This is also the disadvantage of a Markov chian, which depends on the previous k words.)\n",
    "\n",
    "For this system itself, Word2vec is a context-free method, while LSTM neural networks trains the word representation into context-dependent (although not very sensitive compared with BERT or other advanced models). \n",
    "\n",
    "### 5.2 creativity\n",
    "Although one of the reasons that I do not apply POS restriction to generating is the time limitation of this building this system, I would like to check if there is no such restriction, how does the generator work. for evaluating this generative system, we could focus on next arguments regarding implementing SPECS (Jordanous, 2012):\n",
    "\n",
    "\n",
    "Pro:\n",
    "\n",
    "* Involvement and persistence: This system could generate a Japanese poem by randomly or manually choosing a word from the vocabulary;\n",
    "* This system has learned the probability of whether a word could appear near other words (by Word2vec);\n",
    "* Domain Competence & general intellect: This system could generate coherent poem sentences which can be interpreted manually by human. Some of its generating results even astonishing, such like: *sunlight shadowed even because inspiration*;\n",
    "* Generation of Results (stopping criteria): It could stop after generating a fixed number of words.\n",
    "\n",
    "Con:\n",
    "* Uncertainty: It is not resilient with a out-of-vocabulary (OOV) input, as a mature generative text model could deal with a OOV word in some ways, e.g. assigning it a all-zeros vector;\n",
    "* Domain Competence & general intellect: Sometimes the result is not as coherent as expected (e.g. repeatly generating the same words and need to tune the temperature carefully, regardless the of the basic English grammar such like the third person sigular);\n",
    "* Generation of Results (stopping criteria): Although it could stop, the stop criteria is simple for a poem generator (e.g. do not consider syllables, the rhyme can not be guaranteed).\n",
    "\n",
    "### some trifling remarks\n",
    "I am not sure about the real reasons why the researchers would like to focus on poem generating, but for me, if I am going to construct a generating system, I feel like starting it from poem generating from scratch. The reason for me is that, poetry is a freestyle in literature world in no matter what language, which seems far away from logical writing such like reasoning and translation, because we do not limit that the poem needs to be written in a totally cohereant way: one could even put a verb at first, and a name at last for the rhyme. Typically, it is conceivable that the machine is better at 'logical thinking' -- better to do the above logical things, but when training it to write poem in a not-strictly-logical way then try to interpret it, is it creative to let it write something looks far from 'logical'? Here we do not depends on the verbose discussion about whether this machine gasps the language or not (Chinese room problem?), so long as it could 'say something plausible'.\n",
    "\n",
    "## 6. Future work\n",
    "\n",
    "### 6.1 About the inspiring set\n",
    "The other part I would like to add as a component of this inspiring set is the English translation wakas in the game *The Ghost of Tsushima* -- a good Japanese style PS4 video game in which there are a lot of wakas composing materials that can be combined freely by the gamer, and thankfully the designers provided all of the English translation for the gamer. Each of these decent poems will also have three sentences. There are also numerous waka data set can be found on the Internet. Due to time limitation I do not put these wakas as an add-on part of inspiring set, but I think it is worthy to have a look in the future. \n",
    "\n",
    "### 6.2 Generator training\n",
    "#### 6.2.1 for word vectors\n",
    "The used word vectors can be enhanced -- I only use the sentences in the inspiring set for training. There are two ways: \n",
    "* a) use gensim pre-trained word vectors (there are a lot of options provided by [gensim API](https://radimrehurek.com/gensim/auto_examples/howtos/run_downloader_api.html 'gensim API') which are trained by large scale corpora and very easy for using);\n",
    "* b) use a much bigger corpus for training (can also use the corpora from gensim (see the above link) ).\n",
    "\n",
    "in both ways the pre-processing procedures would also be modified.\n",
    "\n",
    "#### 6.2.2 for neural networks and generated results\n",
    "The network I use for training is a simple LSTM layer and the target is a single word. In natural language processing and generative text field, there are much advanced efficient models such like GAN ([Goodfellow et al.](https://arxiv.org/pdf/1406.2661.pdf)) BERT ([Google](https://arxiv.org/pdf/1810.04805.pdf)), GPT-2 ([OpenAI](https://d4mucfpksywv.cloudfront.net/better-language-models/language-models.pdf)), or at least it can be added on basic inter or intra attention mechanism with some grammer modification method to refine the generated sentences as a further trail. "
   ]
  },
  {
   "cell_type": "code",
   "execution_count": null,
   "metadata": {},
   "outputs": [],
   "source": []
  }
 ],
 "metadata": {
  "kernelspec": {
   "display_name": "Python 3",
   "language": "python",
   "name": "python3"
  },
  "language_info": {
   "codemirror_mode": {
    "name": "ipython",
    "version": 3
   },
   "file_extension": ".py",
   "mimetype": "text/x-python",
   "name": "python",
   "nbconvert_exporter": "python",
   "pygments_lexer": "ipython3",
   "version": "3.6.9"
  }
 },
 "nbformat": 4,
 "nbformat_minor": 4
}
